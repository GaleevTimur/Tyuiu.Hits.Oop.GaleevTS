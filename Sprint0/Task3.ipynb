{
 "cells": [
  {
   "cell_type": "markdown",
   "metadata": {},
   "source": [
    "<h1 style=\"color:DodgerBlue\">Индивидальный проект</h1>"
   ]
  },
  {
   "cell_type": "markdown",
   "metadata": {},
   "source": [
    "<h2 style=\"color:DodgerBlue\">Название проекта:</h2>\n",
    "\n",
    "----\n",
    "\n",
    "### Вариант задания \n"
   ]
  },
  {
   "cell_type": "markdown",
   "metadata": {},
   "source": [
    "<h2 style=\"color:DodgerBlue\">Описание проекта:</h2>\n",
    "\n",
    "----\n",
    "\n",
    "[ваш текст]\n"
   ]
  },
  {
   "cell_type": "markdown",
   "metadata": {},
   "source": [
    "Создать базовый класс Employee в C#, который будет представлять информацию о\n",
    "сотрудниках компании. На основе этого класса разработать 2-3 производных\n",
    "класса, демонстрирующих принципы наследования и полиморфизма. В каждом из\n",
    "классов должны быть реализованы новые атрибуты и методы, а также\n",
    "переопределены некоторые методы базового класса для демонстрации\n",
    "полиморфизма."
   ]
  },
  {
   "cell_type": "markdown",
   "metadata": {},
   "source": [
    "<h2 style=\"color:DodgerBlue\">Реализация:</h2>\n",
    "\n",
    "----"
   ]
  },
  {
   "cell_type": "code",
   "execution_count": 2,
   "metadata": {
    "dotnet_interactive": {
     "language": "csharp"
    },
    "polyglot_notebook": {
     "kernelName": "csharp"
    }
   },
   "outputs": [
    {
     "name": "stdout",
     "output_type": "stream",
     "text": [
      "Имя: Тимур, Возвраст: 19, Зарплата: 30000 руб\n",
      "Статус: Выполнено\n",
      "В отпуске\n"
     ]
    }
   ],
   "source": [
    "public class Employee\n",
    "{\n",
    "    public string Name { get; set; }\n",
    "    public string Age { get; set; }\n",
    "    public string Salary { get; set; }\n",
    "    public string WorkStatus {get; set;}\n",
    "    public string VacationStatus {get; set;}\n",
    "\n",
    "    public Employee(string name, string age, string salary, string workStatus, string vacationStatus)\n",
    "    {\n",
    "        Name = name;\n",
    "        Age = age;\n",
    "        Salary = salary;\n",
    "        WorkStatus = workStatus;\n",
    "        VacationStatus = vacationStatus;\n",
    "    }\n",
    "    public virtual string GetInfo()\n",
    "    {\n",
    "        return $\"Имя: {Name}, Возвраст: {Age}, Зарплата: {Salary}\";\n",
    "    }\n",
    "    public virtual string Work()\n",
    "    {\n",
    "        return $\"Статус: {WorkStatus}\";\n",
    "    } \n",
    "    public virtual string TakeVacation()\n",
    "    {\n",
    "        return VacationStatus;\n",
    "    }\n",
    "}\n",
    "Employee myInfo = new Employee(\"Тимур\",\"19\",\"30000 руб\", \"Выполнено\", \"В отпуске\");\n",
    "string workerName = myInfo.GetInfo();\n",
    "string workerWorkStatus = myInfo.Work();\n",
    "string workerVacationStatus = myInfo.TakeVacation();\n",
    "Console.WriteLine(workerName);\n",
    "Console.WriteLine(workerWorkStatus);\n",
    "Console.WriteLine(workerVacationStatus);\n"
   ]
  },
  {
   "cell_type": "code",
   "execution_count": 21,
   "metadata": {},
   "outputs": [
    {
     "name": "stdout",
     "output_type": "stream",
     "text": [
      "Статус: Выполнено, Кол-во подчиненных: 8\r\n"
     ]
    }
   ],
   "source": [
    "public class Manager : Employee\n",
    "{\n",
    "    public string SubordinatesCount {get; set;}\n",
    "    public Manager(string name, string age, string salary, string workStatus, string vacationStatus, string subordinatesCount):base(name, age, salary, workStatus, vacationStatus)\n",
    "    {\n",
    "        SubordinatesCount = subordinatesCount;\n",
    "    }\n",
    "    public override string Work()\n",
    "    {\n",
    "        base.Work();\n",
    "        return $\"Статус: {WorkStatus}, Кол-во подчиненных: {SubordinatesCount}\";\n",
    "    }\n",
    "}\n",
    "Manager myManager = new Manager(\"Тимур\",\"19\",\"30000 руб\", \"Выполнено\", \"В отпуске\", \"8\");\n",
    "string managerWorkStatus = myManager.Work();\n",
    "Console.WriteLine(managerWorkStatus);"
   ]
  },
  {
   "cell_type": "code",
   "execution_count": 26,
   "metadata": {},
   "outputs": [
    {
     "name": "stdout",
     "output_type": "stream",
     "text": [
      "Имя: Тимур, Возвраст: 19, Зарплата: 30000 руб\n",
      "Разработчик в отпуске\n"
     ]
    }
   ],
   "source": [
    "public class Developer : Employee\n",
    "{\n",
    "    public string Specialization {get; set;}\n",
    "    public Developer(string name, string age, string salary, string workStatus, string vacationStatus, string specialization):base(name, age, salary, workStatus, vacationStatus)\n",
    "    {\n",
    "        Specialization = specialization;\n",
    "    }\n",
    "    public override string TakeVacation()\n",
    "    {\n",
    "        base.TakeVacation();\n",
    "        return $\"{Specialization} {VacationStatus}\";\n",
    "    }\n",
    "}\n",
    "Developer myDeveloper = new Developer(\"Тимур\",\"19\",\"30000 руб\", \"Выполнено\", \"в отпуске\", \"Разработчик\");\n",
    "string developerVacationStatus = myDeveloper.TakeVacation();\n",
    "Console.WriteLine(workerName);\n",
    "Console.WriteLine(developerVacationStatus);"
   ]
  },
  {
   "cell_type": "code",
   "execution_count": 25,
   "metadata": {},
   "outputs": [
    {
     "name": "stdout",
     "output_type": "stream",
     "text": [
      "Имя: Тимур, Возвраст: 19, Зарплата: 30000 руб\n",
      "Стиль: Красивый, Статус: Выполнено\n"
     ]
    }
   ],
   "source": [
    "public class Designer : Employee\n",
    "{\n",
    "    public string DesignStyle {get; set;}\n",
    "    public Designer(string name, string age, string salary, string workStatus, string vacationStatus, string designStyle):base(name, age, salary, workStatus, vacationStatus)\n",
    "    {\n",
    "        DesignStyle = designStyle;\n",
    "    }\n",
    "    public override string Work()\n",
    "    {\n",
    "        base.Work();\n",
    "        return $\"Стиль: {DesignStyle}, Статус: {WorkStatus}\";\n",
    "    }\n",
    "}\n",
    "Designer myDesigner = new Designer(\"Тимур\",\"19\",\"30000 руб\", \"Выполнено\", \"в отпуске\", \"Красивый\");\n",
    "string designerWorkStatus = myDesigner.Work();\n",
    "Console.WriteLine(workerName);\n",
    "Console.WriteLine(designerWorkStatus);"
   ]
  }
 ],
 "metadata": {
  "kernelspec": {
   "display_name": ".NET (C#)",
   "language": "C#",
   "name": ".net-csharp"
  },
  "polyglot_notebook": {
   "kernelInfo": {
    "defaultKernelName": "csharp",
    "items": [
     {
      "aliases": [],
      "languageName": "csharp",
      "name": "csharp"
     }
    ]
   }
  }
 },
 "nbformat": 4,
 "nbformat_minor": 2
}
